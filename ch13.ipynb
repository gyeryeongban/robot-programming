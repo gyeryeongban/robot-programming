{
 "cells": [
  {
   "cell_type": "code",
   "execution_count": null,
   "metadata": {
    "vscode": {
     "languageId": "plaintext"
    }
   },
   "outputs": [],
   "source": [
    "import numpy as np\n",
    "import time\n",
    "import onnxruntime as rt\n",
    "from PIL import Image\n",
    "import cv2\n",
    "from Arm_Lib import Arm_Device"
   ]
  },
  {
   "cell_type": "code",
   "execution_count": null,
   "metadata": {
    "vscode": {
     "languageId": "plaintext"
    }
   },
   "outputs": [],
   "source": [
    "Arm = Arm_Device()"
   ]
  },
  {
   "cell_type": "code",
   "execution_count": null,
   "metadata": {
    "vscode": {
     "languageId": "plaintext"
    }
   },
   "outputs": [],
   "source": [
    "# 머리 상하로 움직이기\n",
    "def haed_shake(angle, s_time):\n",
    "    for i in range(3):\n",
    "        Arm.Arm_serial_servo_write6(90, 110, 1, angle, 90, 100, s_time)\n",
    "        time.sleep(s_time/1000)\n",
    "        Arm.Arm_serial_servo_write6(90, 110, 1, angle+30, 90, 100, s_time)\n",
    "        time.sleep(s_time/1000)\n",
    "        i += 1\n",
    "    Arm.Arm_serial_servo_write6(90, 110, 1, angle, 90, 100, s_time)"
   ]
  },
  {
   "cell_type": "code",
   "execution_count": null,
   "metadata": {
    "vscode": {
     "languageId": "plaintext"
    }
   },
   "outputs": [],
   "source": [
    "# 각 모듈의 각도 변경\n",
    "def ctrl_all_servo(angle, s_time):\n",
    "    Arm.Arm_serial_servo_write6(angle, 180-angle, angle, angle, angle, angle, s_time)\n",
    "    time.sleep(s_time/1000)"
   ]
  },
  {
   "cell_type": "code",
   "execution_count": null,
   "metadata": {
    "vscode": {
     "languageId": "plaintext"
    }
   },
   "outputs": [],
   "source": [
    "# 종이컵 집기 or 놓기\n",
    "def arm_clamp_block(enable):\n",
    "    if enable == 0:\n",
    "        Arm.Arm_serial_servo_write6(6, 60, 400)\n",
    "    else:\n",
    "        Arm.Arm_serial_servo_write6(6, 130, 400)\n",
    "        time.sleep(.5)"
   ]
  },
  {
   "cell_type": "code",
   "execution_count": null,
   "metadata": {
    "vscode": {
     "languageId": "plaintext"
    }
   },
   "outputs": [],
   "source": [
    "# 로봇 팔 움직이기\n",
    "def arm_move(p, s_time = 500):\n",
    "    for i in range(4):\n",
    "        id = i + 1\n",
    "        if id == 5:\n",
    "            time.sleep(.1)\n",
    "            Arm.Arm_serial_servo_write6(id, p[i], int(s_time * 1.2))\n",
    "        elif id == 1:\n",
    "            Arm.Arm_serial_servo_write6(id, p[i], int(3 * s_time / 4))\n",
    "        else:\n",
    "            Arm.Arm_serial_servo_write6(id, p[i], int(s_time))\n",
    "        time.sleep(.01)\n",
    "    time.sleep(s_time / 1000)"
   ]
  },
  {
   "cell_type": "code",
   "execution_count": null,
   "metadata": {
    "vscode": {
     "languageId": "plaintext"
    }
   },
   "outputs": [],
   "source": [
    "p_mould = [90, 130, 0, 50, 90]\n",
    "p_step_1 = [114, 22, 64, 56, 270]\n",
    "p_step_2 = [87, 22, 64, 56, 270]\n",
    "p_step_2_top = [87, , , , ]\n",
    "p_step_3 = [61, 22, 64, 56, 270]"
   ]
  },
  {
   "cell_type": "code",
   "execution_count": null,
   "metadata": {
    "vscode": {
     "languageId": "plaintext"
    }
   },
   "outputs": [],
   "source": [
    "arm_move(p_mould, 1000)\n",
    "\n",
    "# 2번 위치의 종이컵 집기\n",
    "arm_move(p_step_2, 1000)\n",
    "arm_clamp_block(1)\n",
    "time.sleep(1)\n",
    "\n",
    "# 2번 위치의 종이컵 들어 올리기\n",
    "arm_move(p_step_2_top, 1000)\n",
    "time.sleep(1)\n",
    "\n",
    "# 1번 위치에 종이컵 놓기\n",
    "arm_move(p_step_1, 1000)\n",
    "arm_clamp_block(0)\n",
    "time.sleep(1)\n",
    "\n",
    "# 머리 상하로 움직이기\n",
    "haed_shake(0, 1000)\n",
    "time.sleep(1)\n",
    "\n",
    "# 1번 위치의 종이컵 집기\n",
    "arm_clamp_block(1)\n",
    "time.sleep(1)\n",
    "\n",
    "# 1번 위치의 종이컵 들어 올리기\n",
    "arm_move(p_mould, 1000)\n",
    "time.sleep(1)\n",
    "\n",
    "# 3번 위치에 종이컵 놓기\n",
    "arm_move(p_step_3, 1000)\n",
    "arm_clamp_block(0)\n",
    "time.sleep(1)\n",
    "\n",
    "# 원래 위치로 이동\n",
    "arm_move(p_mould, 1000)\n",
    "time.sleep(1)"
   ]
  }
 ],
 "metadata": {
  "language_info": {
   "name": "python"
  }
 },
 "nbformat": 4,
 "nbformat_minor": 2
}
