{
 "cells": [
  {
   "cell_type": "code",
   "execution_count": 3,
   "id": "31b663a7-f790-42cc-94e2-9231e0d74de4",
   "metadata": {},
   "outputs": [
    {
     "name": "stdout",
     "output_type": "stream",
     "text": [
      "학과: 컴퓨터소프트웨어공학과\n",
      "학번: 20232623\n"
     ]
    }
   ],
   "source": [
    "print(\"학과: 컴퓨터소프트웨어공학과\")\n",
    "print(\"학번: 20230000\")"
   ]
  },
  {
   "cell_type": "code",
   "execution_count": 28,
   "id": "dd038bb4-8652-4897-8f65-158694801d89",
   "metadata": {},
   "outputs": [
    {
     "name": "stdout",
     "output_type": "stream",
     "text": [
      "4950\n"
     ]
    }
   ],
   "source": [
    "sum = 0\n",
    "\n",
    "for i in range(1, 100):\n",
    "    sum += i\n",
    "print(sum)"
   ]
  },
  {
   "cell_type": "code",
   "execution_count": null,
   "id": "3aa4fa4f-85d5-4a45-98b1-0f0bfabd8820",
   "metadata": {},
   "outputs": [
    {
     "ename": "",
     "evalue": "",
     "output_type": "error",
     "traceback": [
      "\u001b[1;31mRunning cells with 'Python 3.12.2' requires the ipykernel package.\n",
      "\u001b[1;31mRun the following command to install 'ipykernel' into the Python environment. \n",
      "\u001b[1;31mCommand: '/opt/homebrew/bin/python3 -m pip install ipykernel -U --user --force-reinstall'"
     ]
    }
   ],
   "source": [
    "numbers = input(\"숫자 리스트를 입력하세요 (쉼표로 구분): \")\n",
    "\n",
    "numbers = numbers.split(',')\n",
    "\n",
    "for num in numbers:\n",
    "    num = int(num)\n",
    "    if num % 2 == 1:\n",
    "        print(num)"
   ]
  },
  {
   "cell_type": "code",
   "execution_count": 32,
   "id": "4f586d47-a914-45c6-a636-cfdc906e01a1",
   "metadata": {},
   "outputs": [
    {
     "name": "stdout",
     "output_type": "stream",
     "text": [
      "다이아몬드의 높이를 입력하세요 (홀수로 입력):  9\n"
     ]
    },
    {
     "name": "stdout",
     "output_type": "stream",
     "text": [
      "        *\n",
      "       ***\n",
      "      *****\n",
      "     *******\n",
      "    *********\n",
      "   ***********\n",
      "  *************\n",
      " ***************\n",
      "*****************\n",
      " ***************\n",
      "  *************\n",
      "   ***********\n",
      "    *********\n",
      "     *******\n",
      "      *****\n",
      "       ***\n",
      "        *\n"
     ]
    }
   ],
   "source": [
    "height = int(input(\"다이아몬드의 높이를 입력하세요 (홀수로 입력): \"))\n",
    "\n",
    "for i in range(height // 2 + 1):\n",
    "    spaces = ' ' * (height // 2 - i)\n",
    "    stars = '*' * (2 * i + 1)\n",
    "    print(spaces + stars)\n",
    "\n",
    "for i in range(height // 2 - 1, -1, -1):\n",
    "    spaces = ' ' * (height // 2 - i)\n",
    "    stars = '*' * (2 * i + 1)\n",
    "    print(spaces + stars)"
   ]
  }
 ],
 "metadata": {
  "kernelspec": {
   "display_name": "Python 3",
   "language": "python",
   "name": "python3"
  },
  "language_info": {
   "codemirror_mode": {
    "name": "ipython",
    "version": 3
   },
   "file_extension": ".py",
   "mimetype": "text/x-python",
   "name": "python",
   "nbconvert_exporter": "python",
   "pygments_lexer": "ipython3",
   "version": "3.12.2"
  }
 },
 "nbformat": 4,
 "nbformat_minor": 5
}
