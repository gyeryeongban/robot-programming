{
 "cells": [
  {
   "cell_type": "code",
   "execution_count": 19,
   "metadata": {},
   "outputs": [
    {
     "name": "stdout",
     "output_type": "stream",
     "text": [
      "input(red:1 green:2 blue:3):3\n",
      "맞습니다\n",
      "input(red:1 green:2 blue:3):2\n",
      "score: 20, color_print: 3\n"
     ]
    }
   ],
   "source": [
    "import time\n",
    "import random\n",
    "from Arm_Lib import Arm_Device\n",
    "\n",
    "Arm=Arm_Device()\n",
    "time.sleep(.1)\n",
    "\n",
    "\n",
    "Arm.Arm_Buzzer_On()\n",
    "time.sleep(1)\n",
    "\n",
    "Arm.Arm_Buzzer_Off()\n",
    "time.sleep(1)\n",
    "\n",
    "def main():\n",
    "    Arm.Arm_RGB_set(50,0,0)\n",
    "    time.sleep(.5)\n",
    "    Arm.Arm_RGB_set(0,50,0)\n",
    "    time.sleep(.5)\n",
    "    Arm.Arm_RGB_set(0,0,50)\n",
    "    time.sleep(.5)\n",
    "\n",
    "    color_list=[[50,0,0],[0,50,0],[0,0,50]]\n",
    "    color_print = random.randint(1, 3)\n",
    "    \n",
    "    score = 0\n",
    "    #user = int(input(\"input(red:1 green:2 blue:3)test:\"))\n",
    "\n",
    "    for i in range (5):\n",
    "        user = int(input(\"input(red:1 green:2 blue:3):\"))\n",
    "        \n",
    "        if (user == color_print):\n",
    "            print(\"맞습니다\")\n",
    "            for i  in range (3):\n",
    "                Arm.Arm_Buzzer_On()\n",
    "                time.sleep(.1)\n",
    "            score+=20\n",
    "        else:\n",
    "            break\n",
    "            \n",
    "    Arm.Arm_Buzzer_On()\n",
    "    time.sleep(.2)\n",
    "    Arm.Arm_Buzzer_Off()\n",
    "    time.sleep(1)\n",
    "    \n",
    "    print(\"score: \" + str(score) + \", color_print: \" + str(color_print))\n",
    "\n",
    "try:\n",
    "    main()\n",
    "\n",
    "except KeyboardInterrupt:\n",
    "    del Arm\n",
    "    pass"
   ]
  },
  {
   "cell_type": "code",
   "execution_count": null,
   "metadata": {},
   "outputs": [],
   "source": []
  }
 ],
 "metadata": {
  "kernelspec": {
   "display_name": "Python 3",
   "language": "python",
   "name": "python3"
  },
  "language_info": {
   "codemirror_mode": {
    "name": "ipython",
    "version": 3
   },
   "file_extension": ".py",
   "mimetype": "text/x-python",
   "name": "python",
   "nbconvert_exporter": "python",
   "pygments_lexer": "ipython3",
   "version": "3.6.9"
  }
 },
 "nbformat": 4,
 "nbformat_minor": 4
}
