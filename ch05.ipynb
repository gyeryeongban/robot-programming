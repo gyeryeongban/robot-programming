{
 "cells": [
  {
   "cell_type": "code",
   "execution_count": 68,
   "metadata": {
    "scrolled": true
   },
   "outputs": [
    {
     "name": "stdout",
     "output_type": "stream",
     "text": [
      "zerobot dance\n",
      "num6\n",
      "end\n"
     ]
    }
   ],
   "source": [
    "# 라이브러리\n",
    "# 수치 계산할 때\n",
    "import numpy as np\n",
    "# 동작에서 지연 시간을 주고 싶을 때\n",
    "import time\n",
    "# 모델을 불러올 때\n",
    "import onnxruntime as rt\n",
    "# 사진을 찍고 이미지를 불러올 때\n",
    "from PIL import Image\n",
    "import cv2\n",
    "# Dofbot을 제어하고 싶을 때\n",
    "from Arm_Lib import Arm_Device\n",
    "\n",
    "# 제어 준비\n",
    "Arm = Arm_Device()\n",
    "\n",
    "def ctrl_all_servo(angle, s_time):\n",
    "    Arm.Arm_serial_servo_write6(angle, 180 - angle, angle, angle, angle, angle, s_time)\n",
    "    time.sleep(s_time / 1000)\n",
    "\n",
    "# 1번 모듈 움직이기\n",
    "def module1(angle, s_time):\n",
    "    Arm.Arm_serial_servo_write6(angle, 110, 1, 40, 90, 100, s_time)\n",
    "    time.sleep(s_time / 1000)\n",
    "\n",
    "# 1번 모듈 움직이기\n",
    "def module1_opposite(angle, s_time):\n",
    "    Arm.Arm_serial_servo_write6(-angle, 110, 1, 40, 90, 100, s_time) # module1과 비교하였을 때 angle의 부호를 다르게 하여 module1과 반대 방향으로 움직이게 함\n",
    "    time.sleep(s_time / 1000)\n",
    "\n",
    "# 6번 모듈 움직이기\n",
    "def module6(angle, s_time):\n",
    "    Arm.Arm_serial_servo_write6(-180, 110, 1, 40, 90, angle, s_time)\n",
    "    time.sleep(s_time / 1000)\n",
    "\n",
    "# 위로 움직이기\n",
    "def up():\n",
    "        ctrl_all_servo(100, 1000)\n",
    "        time.sleep(10 / 1000)\n",
    "\n",
    "# 아래로 움직이기\n",
    "def down():\n",
    "        ctrl_all_servo(25, 1000)\n",
    "        time.sleep(10 / 1000)\n",
    "\n",
    "print(\"zerobot dance\")\n",
    "\n",
    "# 위아래 4번 반복하기\n",
    "for i in range(4):\n",
    "    up()\n",
    "    time.sleep(10 / 1000)\n",
    "    down()\n",
    "    i += 1\n",
    "    \n",
    "print(\"박수~\")\n",
    "\n",
    "# 춤을 다 추면 3번 박수 치기 (6번 집게 움직이기)\n",
    "for i in range(3):\n",
    "    module6(1, 500) # 집게 열기\n",
    "    time.sleep(10 / 1000) \n",
    "    module6(160, 500) # 집게 닫기\n",
    "    time.sleep(10 / 1000)\n",
    "    i += 1\n",
    "\n",
    "print(\"end\")"
   ]
  }
 ],
 "metadata": {
  "kernelspec": {
   "display_name": "Python 3",
   "language": "python",
   "name": "python3"
  },
  "language_info": {
   "codemirror_mode": {
    "name": "ipython",
    "version": 3
   },
   "file_extension": ".py",
   "mimetype": "text/x-python",
   "name": "python",
   "nbconvert_exporter": "python",
   "pygments_lexer": "ipython3",
   "version": "3.6.9"
  }
 },
 "nbformat": 4,
 "nbformat_minor": 4
}
